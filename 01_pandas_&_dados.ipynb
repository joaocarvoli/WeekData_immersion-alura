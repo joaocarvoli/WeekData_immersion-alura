{
  "nbformat": 4,
  "nbformat_minor": 0,
  "metadata": {
    "colab": {
      "name": "01-pandas-&-dados.ipynb",
      "provenance": [],
      "collapsed_sections": [],
      "include_colab_link": true
    },
    "kernelspec": {
      "display_name": "Python 3",
      "language": "python",
      "name": "python3"
    },
    "language_info": {
      "codemirror_mode": {
        "name": "ipython",
        "version": 3
      },
      "file_extension": ".py",
      "mimetype": "text/x-python",
      "name": "python",
      "nbconvert_exporter": "python",
      "pygments_lexer": "ipython3",
      "version": "3.9.4"
    }
  },
  "cells": [
    {
      "cell_type": "markdown",
      "metadata": {
        "id": "view-in-github",
        "colab_type": "text"
      },
      "source": [
        "<a href=\"https://colab.research.google.com/github/joaocarvoli/alura-immersion/blob/main/01_pandas_%26_dados.ipynb\" target=\"_parent\"><img src=\"https://colab.research.google.com/assets/colab-badge.svg\" alt=\"Open In Colab\"/></a>"
      ]
    },
    {
      "cell_type": "markdown",
      "metadata": {
        "id": "8sinS8R6AOcD"
      },
      "source": [
        "## Starting the data immersion\n",
        "- The data that we'll analyse is about: Mechanisms of Action [MOA](https://www.kaggle.com/c/lish-moa) Prediction.\n",
        "- This project was based on a challenge of [Laboratory innovation science at Harvard](https://lish.harvard.edu/)\n",
        "##### *Can you improve the algorithm that classifies drugs based on their biological activity?*\n",
        "\n"
      ]
    },
    {
      "cell_type": "markdown",
      "metadata": {
        "id": "uzxM32JQZuXN"
      },
      "source": [
        "![picture](https://drive.google.com/uc?export=view&id=1pWST-DLx_A2Dt1Zi9lNnsH9GIM8rrrqQ)\n"
      ]
    },
    {
      "cell_type": "code",
      "metadata": {
        "id": "bnsgdFGOZp3z"
      },
      "source": [
        "import pandas as pd\n",
        "\n",
        "path_data = '/home/j/Personal/Projects/imersao-alura/Data/dados_experimentos.zip'\n",
        "data = pd.read_csv(path_data, compression = 'zip') # The compression is used because the data base is compacted...."
      ],
      "execution_count": null,
      "outputs": []
    },
    {
      "cell_type": "code",
      "metadata": {
        "id": "XHkuPbqa9v-_"
      },
      "source": [
        "data.columns = [i.replace('-', '') for i in data.columns] # removing the trace \"-\" of g,c..."
      ],
      "execution_count": null,
      "outputs": []
    },
    {
      "cell_type": "code",
      "metadata": {
        "colab": {
          "base_uri": "https://localhost:8080/",
          "height": 560
        },
        "id": "cEQPOIg-aAtt",
        "outputId": "f5b5849c-ae5f-4a16-ce59-04ad3d99580f"
      },
      "source": [
        "data.head(15)"
      ],
      "execution_count": null,
      "outputs": [
        {
          "output_type": "execute_result",
          "data": {
            "text/html": [
              "<div>\n",
              "<style scoped>\n",
              "    .dataframe tbody tr th:only-of-type {\n",
              "        vertical-align: middle;\n",
              "    }\n",
              "\n",
              "    .dataframe tbody tr th {\n",
              "        vertical-align: top;\n",
              "    }\n",
              "\n",
              "    .dataframe thead th {\n",
              "        text-align: right;\n",
              "    }\n",
              "</style>\n",
              "<table border=\"1\" class=\"dataframe\">\n",
              "  <thead>\n",
              "    <tr style=\"text-align: right;\">\n",
              "      <th></th>\n",
              "      <th>id</th>\n",
              "      <th>tratamento</th>\n",
              "      <th>tempo</th>\n",
              "      <th>dose</th>\n",
              "      <th>droga</th>\n",
              "      <th>g0</th>\n",
              "      <th>g1</th>\n",
              "      <th>g2</th>\n",
              "      <th>g3</th>\n",
              "      <th>g4</th>\n",
              "      <th>...</th>\n",
              "      <th>c90</th>\n",
              "      <th>c91</th>\n",
              "      <th>c92</th>\n",
              "      <th>c93</th>\n",
              "      <th>c94</th>\n",
              "      <th>c95</th>\n",
              "      <th>c96</th>\n",
              "      <th>c97</th>\n",
              "      <th>c98</th>\n",
              "      <th>c99</th>\n",
              "    </tr>\n",
              "  </thead>\n",
              "  <tbody>\n",
              "    <tr>\n",
              "      <th>0</th>\n",
              "      <td>id_000644bb2</td>\n",
              "      <td>com_droga</td>\n",
              "      <td>24</td>\n",
              "      <td>D1</td>\n",
              "      <td>b68db1d53</td>\n",
              "      <td>1.0620</td>\n",
              "      <td>0.5577</td>\n",
              "      <td>-0.2479</td>\n",
              "      <td>-0.6208</td>\n",
              "      <td>-0.1944</td>\n",
              "      <td>...</td>\n",
              "      <td>0.2862</td>\n",
              "      <td>0.2584</td>\n",
              "      <td>0.8076</td>\n",
              "      <td>0.5523</td>\n",
              "      <td>-0.1912</td>\n",
              "      <td>0.6584</td>\n",
              "      <td>-0.3981</td>\n",
              "      <td>0.2139</td>\n",
              "      <td>0.3801</td>\n",
              "      <td>0.4176</td>\n",
              "    </tr>\n",
              "    <tr>\n",
              "      <th>1</th>\n",
              "      <td>id_000779bfc</td>\n",
              "      <td>com_droga</td>\n",
              "      <td>72</td>\n",
              "      <td>D1</td>\n",
              "      <td>df89a8e5a</td>\n",
              "      <td>0.0743</td>\n",
              "      <td>0.4087</td>\n",
              "      <td>0.2991</td>\n",
              "      <td>0.0604</td>\n",
              "      <td>1.0190</td>\n",
              "      <td>...</td>\n",
              "      <td>-0.4265</td>\n",
              "      <td>0.7543</td>\n",
              "      <td>0.4708</td>\n",
              "      <td>0.0230</td>\n",
              "      <td>0.2957</td>\n",
              "      <td>0.4899</td>\n",
              "      <td>0.1522</td>\n",
              "      <td>0.1241</td>\n",
              "      <td>0.6077</td>\n",
              "      <td>0.7371</td>\n",
              "    </tr>\n",
              "    <tr>\n",
              "      <th>2</th>\n",
              "      <td>id_000a6266a</td>\n",
              "      <td>com_droga</td>\n",
              "      <td>48</td>\n",
              "      <td>D1</td>\n",
              "      <td>18bb41b2c</td>\n",
              "      <td>0.6280</td>\n",
              "      <td>0.5817</td>\n",
              "      <td>1.5540</td>\n",
              "      <td>-0.0764</td>\n",
              "      <td>-0.0323</td>\n",
              "      <td>...</td>\n",
              "      <td>-0.7250</td>\n",
              "      <td>-0.6297</td>\n",
              "      <td>0.6103</td>\n",
              "      <td>0.0223</td>\n",
              "      <td>-1.3240</td>\n",
              "      <td>-0.3174</td>\n",
              "      <td>-0.6417</td>\n",
              "      <td>-0.2187</td>\n",
              "      <td>-1.4080</td>\n",
              "      <td>0.6931</td>\n",
              "    </tr>\n",
              "    <tr>\n",
              "      <th>3</th>\n",
              "      <td>id_0015fd391</td>\n",
              "      <td>com_droga</td>\n",
              "      <td>48</td>\n",
              "      <td>D1</td>\n",
              "      <td>8c7f86626</td>\n",
              "      <td>-0.5138</td>\n",
              "      <td>-0.2491</td>\n",
              "      <td>-0.2656</td>\n",
              "      <td>0.5288</td>\n",
              "      <td>4.0620</td>\n",
              "      <td>...</td>\n",
              "      <td>-2.0990</td>\n",
              "      <td>-0.6441</td>\n",
              "      <td>-5.6300</td>\n",
              "      <td>-1.3780</td>\n",
              "      <td>-0.8632</td>\n",
              "      <td>-1.2880</td>\n",
              "      <td>-1.6210</td>\n",
              "      <td>-0.8784</td>\n",
              "      <td>-0.3876</td>\n",
              "      <td>-0.8154</td>\n",
              "    </tr>\n",
              "    <tr>\n",
              "      <th>4</th>\n",
              "      <td>id_001626bd3</td>\n",
              "      <td>com_droga</td>\n",
              "      <td>72</td>\n",
              "      <td>D2</td>\n",
              "      <td>7cbed3131</td>\n",
              "      <td>-0.3254</td>\n",
              "      <td>-0.4009</td>\n",
              "      <td>0.9700</td>\n",
              "      <td>0.6919</td>\n",
              "      <td>1.4180</td>\n",
              "      <td>...</td>\n",
              "      <td>0.0042</td>\n",
              "      <td>0.0048</td>\n",
              "      <td>0.6670</td>\n",
              "      <td>1.0690</td>\n",
              "      <td>0.5523</td>\n",
              "      <td>-0.3031</td>\n",
              "      <td>0.1094</td>\n",
              "      <td>0.2885</td>\n",
              "      <td>-0.3786</td>\n",
              "      <td>0.7125</td>\n",
              "    </tr>\n",
              "    <tr>\n",
              "      <th>5</th>\n",
              "      <td>id_001762a82</td>\n",
              "      <td>com_droga</td>\n",
              "      <td>24</td>\n",
              "      <td>D1</td>\n",
              "      <td>e06749542</td>\n",
              "      <td>-0.6111</td>\n",
              "      <td>0.2941</td>\n",
              "      <td>-0.9901</td>\n",
              "      <td>0.2277</td>\n",
              "      <td>1.2810</td>\n",
              "      <td>...</td>\n",
              "      <td>1.8390</td>\n",
              "      <td>1.1570</td>\n",
              "      <td>-1.0120</td>\n",
              "      <td>1.9010</td>\n",
              "      <td>1.4270</td>\n",
              "      <td>0.4519</td>\n",
              "      <td>1.2120</td>\n",
              "      <td>0.3765</td>\n",
              "      <td>0.7848</td>\n",
              "      <td>1.3990</td>\n",
              "    </tr>\n",
              "    <tr>\n",
              "      <th>6</th>\n",
              "      <td>id_001bd861f</td>\n",
              "      <td>com_droga</td>\n",
              "      <td>24</td>\n",
              "      <td>D2</td>\n",
              "      <td>746ca1f5a</td>\n",
              "      <td>2.0440</td>\n",
              "      <td>1.7000</td>\n",
              "      <td>-1.5390</td>\n",
              "      <td>5.9440</td>\n",
              "      <td>-2.1670</td>\n",
              "      <td>...</td>\n",
              "      <td>0.1855</td>\n",
              "      <td>1.1720</td>\n",
              "      <td>0.8325</td>\n",
              "      <td>0.6486</td>\n",
              "      <td>0.8090</td>\n",
              "      <td>1.5880</td>\n",
              "      <td>2.4670</td>\n",
              "      <td>0.0357</td>\n",
              "      <td>0.1351</td>\n",
              "      <td>-0.3179</td>\n",
              "    </tr>\n",
              "    <tr>\n",
              "      <th>7</th>\n",
              "      <td>id_0020d0484</td>\n",
              "      <td>com_droga</td>\n",
              "      <td>48</td>\n",
              "      <td>D1</td>\n",
              "      <td>8b87a7a83</td>\n",
              "      <td>0.2711</td>\n",
              "      <td>0.5133</td>\n",
              "      <td>-0.1327</td>\n",
              "      <td>2.5950</td>\n",
              "      <td>0.6980</td>\n",
              "      <td>...</td>\n",
              "      <td>0.3230</td>\n",
              "      <td>-0.4140</td>\n",
              "      <td>0.2532</td>\n",
              "      <td>0.0513</td>\n",
              "      <td>0.8600</td>\n",
              "      <td>1.4250</td>\n",
              "      <td>0.6633</td>\n",
              "      <td>0.4562</td>\n",
              "      <td>-0.9622</td>\n",
              "      <td>0.0260</td>\n",
              "    </tr>\n",
              "    <tr>\n",
              "      <th>8</th>\n",
              "      <td>id_00224bf20</td>\n",
              "      <td>com_droga</td>\n",
              "      <td>48</td>\n",
              "      <td>D1</td>\n",
              "      <td>952b76dfc</td>\n",
              "      <td>-0.3014</td>\n",
              "      <td>0.5545</td>\n",
              "      <td>-0.2576</td>\n",
              "      <td>-0.1390</td>\n",
              "      <td>-0.6487</td>\n",
              "      <td>...</td>\n",
              "      <td>-1.6470</td>\n",
              "      <td>0.2863</td>\n",
              "      <td>1.1070</td>\n",
              "      <td>-0.7735</td>\n",
              "      <td>-1.0280</td>\n",
              "      <td>-1.3070</td>\n",
              "      <td>-0.1167</td>\n",
              "      <td>-0.1241</td>\n",
              "      <td>-0.6420</td>\n",
              "      <td>0.5543</td>\n",
              "    </tr>\n",
              "    <tr>\n",
              "      <th>9</th>\n",
              "      <td>id_0023f063e</td>\n",
              "      <td>com_droga</td>\n",
              "      <td>48</td>\n",
              "      <td>D2</td>\n",
              "      <td>de7583071</td>\n",
              "      <td>-0.0630</td>\n",
              "      <td>0.2564</td>\n",
              "      <td>-0.5279</td>\n",
              "      <td>-0.2541</td>\n",
              "      <td>-0.0182</td>\n",
              "      <td>...</td>\n",
              "      <td>0.2201</td>\n",
              "      <td>0.5601</td>\n",
              "      <td>-0.3501</td>\n",
              "      <td>-1.4070</td>\n",
              "      <td>-0.1717</td>\n",
              "      <td>-1.1160</td>\n",
              "      <td>-0.8745</td>\n",
              "      <td>-0.2716</td>\n",
              "      <td>0.0189</td>\n",
              "      <td>-2.0000</td>\n",
              "    </tr>\n",
              "    <tr>\n",
              "      <th>10</th>\n",
              "      <td>id_002452c7e</td>\n",
              "      <td>com_droga</td>\n",
              "      <td>72</td>\n",
              "      <td>D2</td>\n",
              "      <td>89dea2045</td>\n",
              "      <td>-0.2875</td>\n",
              "      <td>0.0322</td>\n",
              "      <td>-0.8863</td>\n",
              "      <td>-0.0016</td>\n",
              "      <td>-0.7471</td>\n",
              "      <td>...</td>\n",
              "      <td>0.2050</td>\n",
              "      <td>-0.7286</td>\n",
              "      <td>0.4684</td>\n",
              "      <td>-0.1541</td>\n",
              "      <td>0.8135</td>\n",
              "      <td>1.4680</td>\n",
              "      <td>0.6648</td>\n",
              "      <td>0.0651</td>\n",
              "      <td>-0.0125</td>\n",
              "      <td>0.2600</td>\n",
              "    </tr>\n",
              "    <tr>\n",
              "      <th>11</th>\n",
              "      <td>id_0024bcd70</td>\n",
              "      <td>com_droga</td>\n",
              "      <td>48</td>\n",
              "      <td>D2</td>\n",
              "      <td>b877aa048</td>\n",
              "      <td>-0.3864</td>\n",
              "      <td>-0.5551</td>\n",
              "      <td>-0.8978</td>\n",
              "      <td>-0.2616</td>\n",
              "      <td>-0.2801</td>\n",
              "      <td>...</td>\n",
              "      <td>0.2856</td>\n",
              "      <td>-0.1953</td>\n",
              "      <td>0.7269</td>\n",
              "      <td>-0.5909</td>\n",
              "      <td>-0.0241</td>\n",
              "      <td>0.0299</td>\n",
              "      <td>0.2731</td>\n",
              "      <td>0.6306</td>\n",
              "      <td>0.8285</td>\n",
              "      <td>0.3605</td>\n",
              "    </tr>\n",
              "    <tr>\n",
              "      <th>12</th>\n",
              "      <td>id_0025c5949</td>\n",
              "      <td>com_droga</td>\n",
              "      <td>48</td>\n",
              "      <td>D1</td>\n",
              "      <td>eecfc72b8</td>\n",
              "      <td>0.0030</td>\n",
              "      <td>0.7189</td>\n",
              "      <td>1.8890</td>\n",
              "      <td>-0.8711</td>\n",
              "      <td>1.3130</td>\n",
              "      <td>...</td>\n",
              "      <td>1.1080</td>\n",
              "      <td>-0.3030</td>\n",
              "      <td>1.1730</td>\n",
              "      <td>0.7277</td>\n",
              "      <td>0.6671</td>\n",
              "      <td>0.7115</td>\n",
              "      <td>0.8592</td>\n",
              "      <td>0.2429</td>\n",
              "      <td>0.3453</td>\n",
              "      <td>0.3083</td>\n",
              "    </tr>\n",
              "    <tr>\n",
              "      <th>13</th>\n",
              "      <td>id_00289dc6e</td>\n",
              "      <td>com_droga</td>\n",
              "      <td>48</td>\n",
              "      <td>D2</td>\n",
              "      <td>668260b02</td>\n",
              "      <td>-0.6884</td>\n",
              "      <td>-0.4203</td>\n",
              "      <td>-1.2640</td>\n",
              "      <td>-0.1932</td>\n",
              "      <td>1.7170</td>\n",
              "      <td>...</td>\n",
              "      <td>-0.9147</td>\n",
              "      <td>0.3180</td>\n",
              "      <td>-0.7729</td>\n",
              "      <td>-0.4888</td>\n",
              "      <td>-0.7573</td>\n",
              "      <td>0.8023</td>\n",
              "      <td>0.0506</td>\n",
              "      <td>-0.1909</td>\n",
              "      <td>0.7842</td>\n",
              "      <td>-0.6606</td>\n",
              "    </tr>\n",
              "    <tr>\n",
              "      <th>14</th>\n",
              "      <td>id_002d31e2c</td>\n",
              "      <td>com_droga</td>\n",
              "      <td>72</td>\n",
              "      <td>D1</td>\n",
              "      <td>e0cd5c091</td>\n",
              "      <td>0.4242</td>\n",
              "      <td>1.7040</td>\n",
              "      <td>-1.3230</td>\n",
              "      <td>-0.3163</td>\n",
              "      <td>-0.4642</td>\n",
              "      <td>...</td>\n",
              "      <td>-5.9590</td>\n",
              "      <td>-0.6440</td>\n",
              "      <td>-0.3461</td>\n",
              "      <td>-4.9490</td>\n",
              "      <td>-1.1380</td>\n",
              "      <td>-5.2000</td>\n",
              "      <td>-8.1330</td>\n",
              "      <td>-4.3170</td>\n",
              "      <td>-6.2390</td>\n",
              "      <td>0.9477</td>\n",
              "    </tr>\n",
              "  </tbody>\n",
              "</table>\n",
              "<p>15 rows × 877 columns</p>\n",
              "</div>"
            ],
            "text/plain": [
              "              id tratamento  tempo dose      droga      g0      g1      g2  \\\n",
              "0   id_000644bb2  com_droga     24   D1  b68db1d53  1.0620  0.5577 -0.2479   \n",
              "1   id_000779bfc  com_droga     72   D1  df89a8e5a  0.0743  0.4087  0.2991   \n",
              "2   id_000a6266a  com_droga     48   D1  18bb41b2c  0.6280  0.5817  1.5540   \n",
              "3   id_0015fd391  com_droga     48   D1  8c7f86626 -0.5138 -0.2491 -0.2656   \n",
              "4   id_001626bd3  com_droga     72   D2  7cbed3131 -0.3254 -0.4009  0.9700   \n",
              "5   id_001762a82  com_droga     24   D1  e06749542 -0.6111  0.2941 -0.9901   \n",
              "6   id_001bd861f  com_droga     24   D2  746ca1f5a  2.0440  1.7000 -1.5390   \n",
              "7   id_0020d0484  com_droga     48   D1  8b87a7a83  0.2711  0.5133 -0.1327   \n",
              "8   id_00224bf20  com_droga     48   D1  952b76dfc -0.3014  0.5545 -0.2576   \n",
              "9   id_0023f063e  com_droga     48   D2  de7583071 -0.0630  0.2564 -0.5279   \n",
              "10  id_002452c7e  com_droga     72   D2  89dea2045 -0.2875  0.0322 -0.8863   \n",
              "11  id_0024bcd70  com_droga     48   D2  b877aa048 -0.3864 -0.5551 -0.8978   \n",
              "12  id_0025c5949  com_droga     48   D1  eecfc72b8  0.0030  0.7189  1.8890   \n",
              "13  id_00289dc6e  com_droga     48   D2  668260b02 -0.6884 -0.4203 -1.2640   \n",
              "14  id_002d31e2c  com_droga     72   D1  e0cd5c091  0.4242  1.7040 -1.3230   \n",
              "\n",
              "        g3      g4  ...     c90     c91     c92     c93     c94     c95  \\\n",
              "0  -0.6208 -0.1944  ...  0.2862  0.2584  0.8076  0.5523 -0.1912  0.6584   \n",
              "1   0.0604  1.0190  ... -0.4265  0.7543  0.4708  0.0230  0.2957  0.4899   \n",
              "2  -0.0764 -0.0323  ... -0.7250 -0.6297  0.6103  0.0223 -1.3240 -0.3174   \n",
              "3   0.5288  4.0620  ... -2.0990 -0.6441 -5.6300 -1.3780 -0.8632 -1.2880   \n",
              "4   0.6919  1.4180  ...  0.0042  0.0048  0.6670  1.0690  0.5523 -0.3031   \n",
              "5   0.2277  1.2810  ...  1.8390  1.1570 -1.0120  1.9010  1.4270  0.4519   \n",
              "6   5.9440 -2.1670  ...  0.1855  1.1720  0.8325  0.6486  0.8090  1.5880   \n",
              "7   2.5950  0.6980  ...  0.3230 -0.4140  0.2532  0.0513  0.8600  1.4250   \n",
              "8  -0.1390 -0.6487  ... -1.6470  0.2863  1.1070 -0.7735 -1.0280 -1.3070   \n",
              "9  -0.2541 -0.0182  ...  0.2201  0.5601 -0.3501 -1.4070 -0.1717 -1.1160   \n",
              "10 -0.0016 -0.7471  ...  0.2050 -0.7286  0.4684 -0.1541  0.8135  1.4680   \n",
              "11 -0.2616 -0.2801  ...  0.2856 -0.1953  0.7269 -0.5909 -0.0241  0.0299   \n",
              "12 -0.8711  1.3130  ...  1.1080 -0.3030  1.1730  0.7277  0.6671  0.7115   \n",
              "13 -0.1932  1.7170  ... -0.9147  0.3180 -0.7729 -0.4888 -0.7573  0.8023   \n",
              "14 -0.3163 -0.4642  ... -5.9590 -0.6440 -0.3461 -4.9490 -1.1380 -5.2000   \n",
              "\n",
              "       c96     c97     c98     c99  \n",
              "0  -0.3981  0.2139  0.3801  0.4176  \n",
              "1   0.1522  0.1241  0.6077  0.7371  \n",
              "2  -0.6417 -0.2187 -1.4080  0.6931  \n",
              "3  -1.6210 -0.8784 -0.3876 -0.8154  \n",
              "4   0.1094  0.2885 -0.3786  0.7125  \n",
              "5   1.2120  0.3765  0.7848  1.3990  \n",
              "6   2.4670  0.0357  0.1351 -0.3179  \n",
              "7   0.6633  0.4562 -0.9622  0.0260  \n",
              "8  -0.1167 -0.1241 -0.6420  0.5543  \n",
              "9  -0.8745 -0.2716  0.0189 -2.0000  \n",
              "10  0.6648  0.0651 -0.0125  0.2600  \n",
              "11  0.2731  0.6306  0.8285  0.3605  \n",
              "12  0.8592  0.2429  0.3453  0.3083  \n",
              "13  0.0506 -0.1909  0.7842 -0.6606  \n",
              "14 -8.1330 -4.3170 -6.2390  0.9477  \n",
              "\n",
              "[15 rows x 877 columns]"
            ]
          },
          "metadata": {
            "tags": []
          },
          "execution_count": 4
        }
      ]
    },
    {
      "cell_type": "markdown",
      "metadata": {
        "id": "OZx2C0-NJ_WX"
      },
      "source": [
        "- We have some id_ that hasn't a pattern...\n",
        "- We have three columns about drugs: 'tratamento', 'time', 'dose' and another columns labels\n",
        "- Let's know more about each column!"
      ]
    },
    {
      "cell_type": "markdown",
      "metadata": {
        "id": "is5ngb7rO70B"
      },
      "source": [
        "# Let's know what values are contained in each column!"
      ]
    },
    {
      "cell_type": "code",
      "metadata": {
        "colab": {
          "base_uri": "https://localhost:8080/"
        },
        "id": "_SGEy6RoaLNA",
        "outputId": "88066bb7-6c9a-48ce-ab5b-34b96fd5f5b6"
      },
      "source": [
        "data['id'].unique() # This function returns how many values differents are contained in data"
      ],
      "execution_count": null,
      "outputs": [
        {
          "output_type": "execute_result",
          "data": {
            "text/plain": [
              "array(['id_000644bb2', 'id_000779bfc', 'id_000a6266a', ...,\n",
              "       'id_fffc1c3f4', 'id_fffcb9e7c', 'id_ffffdd77b'], dtype=object)"
            ]
          },
          "metadata": {
            "tags": []
          },
          "execution_count": 5
        }
      ]
    },
    {
      "cell_type": "markdown",
      "metadata": {
        "id": "ltQbx8r5PifL"
      },
      "source": [
        "We can suppose that there are many values between,...,"
      ]
    },
    {
      "cell_type": "code",
      "metadata": {
        "colab": {
          "base_uri": "https://localhost:8080/"
        },
        "id": "DGPUeL-zP7tZ",
        "outputId": "e3be31e9-4d00-4563-84ee-82a0ce098371"
      },
      "source": [
        "data['tratamento'].unique()"
      ],
      "execution_count": null,
      "outputs": [
        {
          "output_type": "execute_result",
          "data": {
            "text/plain": [
              "array(['com_droga', 'com_controle'], dtype=object)"
            ]
          },
          "metadata": {
            "tags": []
          },
          "execution_count": 6
        }
      ]
    },
    {
      "cell_type": "code",
      "metadata": {
        "colab": {
          "base_uri": "https://localhost:8080/"
        },
        "id": "RyTxuxgMQDyA",
        "outputId": "35be98dd-f579-42a8-cba4-7f65ef22003f"
      },
      "source": [
        "data['tempo'].unique()"
      ],
      "execution_count": null,
      "outputs": [
        {
          "output_type": "execute_result",
          "data": {
            "text/plain": [
              "array([24, 72, 48])"
            ]
          },
          "metadata": {
            "tags": []
          },
          "execution_count": 7
        }
      ]
    },
    {
      "cell_type": "code",
      "metadata": {
        "colab": {
          "base_uri": "https://localhost:8080/"
        },
        "id": "iuw9ERy1QKMi",
        "outputId": "53801573-41b5-42a5-9f42-0edace3225ff"
      },
      "source": [
        "data['dose'].unique()"
      ],
      "execution_count": null,
      "outputs": [
        {
          "output_type": "execute_result",
          "data": {
            "text/plain": [
              "array(['D1', 'D2'], dtype=object)"
            ]
          },
          "metadata": {
            "tags": []
          },
          "execution_count": 8
        }
      ]
    },
    {
      "cell_type": "code",
      "metadata": {
        "colab": {
          "base_uri": "https://localhost:8080/"
        },
        "id": "wTzaH8koQN53",
        "outputId": "3d787bec-1278-4626-fe4f-dc831083e439"
      },
      "source": [
        "data['droga'].unique()"
      ],
      "execution_count": null,
      "outputs": [
        {
          "output_type": "execute_result",
          "data": {
            "text/plain": [
              "array(['b68db1d53', 'df89a8e5a', '18bb41b2c', ..., '573c787a2',\n",
              "       'b2fe3eca7', 'dd4a96d16'], dtype=object)"
            ]
          },
          "metadata": {
            "tags": []
          },
          "execution_count": 9
        }
      ]
    },
    {
      "cell_type": "markdown",
      "metadata": {
        "id": "6dQ7H93tQWOw"
      },
      "source": [
        "Again, we can suppose that there are many values between,...,"
      ]
    },
    {
      "cell_type": "markdown",
      "metadata": {
        "id": "A2PTsbwRQZNh"
      },
      "source": [
        "#### The next columns labels are like random values but aren't. They can be important but We won't study them right now"
      ]
    },
    {
      "cell_type": "markdown",
      "metadata": {
        "id": "4sKEI4d7RMPW"
      },
      "source": [
        "# Let's know how the values are distributed in each column + how percent % !"
      ]
    },
    {
      "cell_type": "markdown",
      "metadata": {
        "id": "coja-XYVTGQv"
      },
      "source": [
        "Each element in the ID column are different so, this column isn't important for us in this specific analysis"
      ]
    },
    {
      "cell_type": "code",
      "metadata": {
        "colab": {
          "base_uri": "https://localhost:8080/"
        },
        "id": "-nAxx0JVWqgz",
        "outputId": "8f025925-c084-44e3-8c22-419e0bcd662c"
      },
      "source": [
        "print(data['tratamento'].value_counts(),'\\n') # This function returns how the data are distributed\n",
        "data['tratamento'].value_counts(normalize = True) # This function returns how the data are distributed in percent\n"
      ],
      "execution_count": null,
      "outputs": [
        {
          "output_type": "stream",
          "text": [
            "com_droga       21948\n",
            "com_controle     1866\n",
            "Name: tratamento, dtype: int64 \n",
            "\n"
          ],
          "name": "stdout"
        },
        {
          "output_type": "execute_result",
          "data": {
            "text/plain": [
              "com_droga       0.921643\n",
              "com_controle    0.078357\n",
              "Name: tratamento, dtype: float64"
            ]
          },
          "metadata": {
            "tags": []
          },
          "execution_count": 10
        }
      ]
    },
    {
      "cell_type": "code",
      "metadata": {
        "colab": {
          "base_uri": "https://localhost:8080/"
        },
        "id": "YZ5vDAuhWxqw",
        "outputId": "df8e7fbb-eaad-49a6-f6a1-ee50b421633d"
      },
      "source": [
        "print(data['tempo'].value_counts(),'\\n')\n",
        "data['tempo'].value_counts(normalize = True)"
      ],
      "execution_count": null,
      "outputs": [
        {
          "output_type": "stream",
          "text": [
            "48    8250\n",
            "72    7792\n",
            "24    7772\n",
            "Name: tempo, dtype: int64 \n",
            "\n"
          ],
          "name": "stdout"
        },
        {
          "output_type": "execute_result",
          "data": {
            "text/plain": [
              "48    0.346435\n",
              "72    0.327202\n",
              "24    0.326363\n",
              "Name: tempo, dtype: float64"
            ]
          },
          "metadata": {
            "tags": []
          },
          "execution_count": 11
        }
      ]
    },
    {
      "cell_type": "code",
      "metadata": {
        "colab": {
          "base_uri": "https://localhost:8080/"
        },
        "id": "otkM8IjHXHl_",
        "outputId": "a58ed808-5af4-4d99-e52d-76b879f56b68"
      },
      "source": [
        "print(data['dose'].value_counts(), '\\n')\n",
        "data['dose'].value_counts(normalize = True)"
      ],
      "execution_count": null,
      "outputs": [
        {
          "output_type": "stream",
          "text": [
            "D1    12147\n",
            "D2    11667\n",
            "Name: dose, dtype: int64 \n",
            "\n"
          ],
          "name": "stdout"
        },
        {
          "output_type": "execute_result",
          "data": {
            "text/plain": [
              "D1    0.510078\n",
              "D2    0.489922\n",
              "Name: dose, dtype: float64"
            ]
          },
          "metadata": {
            "tags": []
          },
          "execution_count": 12
        }
      ]
    },
    {
      "cell_type": "code",
      "metadata": {
        "colab": {
          "base_uri": "https://localhost:8080/"
        },
        "id": "GJBLx15pXJ3-",
        "outputId": "a2d713f5-fc34-4324-f361-a32045f49c10"
      },
      "source": [
        "print(data['droga'].value_counts(),'\\n')\n",
        "data['droga'].value_counts(normalize = True)"
      ],
      "execution_count": null,
      "outputs": [
        {
          "output_type": "stream",
          "text": [
            "cacb2b860    1866\n",
            "87d714366     718\n",
            "9f80f3f77     246\n",
            "8b87a7a83     203\n",
            "5628cb3ee     202\n",
            "             ... \n",
            "1502f8cbb       1\n",
            "fb69fd749       1\n",
            "627d2d158       1\n",
            "796f6988f       1\n",
            "ed81f4046       1\n",
            "Name: droga, Length: 3289, dtype: int64 \n",
            "\n"
          ],
          "name": "stdout"
        },
        {
          "output_type": "execute_result",
          "data": {
            "text/plain": [
              "cacb2b860    0.078357\n",
              "87d714366    0.030150\n",
              "9f80f3f77    0.010330\n",
              "8b87a7a83    0.008524\n",
              "5628cb3ee    0.008482\n",
              "               ...   \n",
              "1502f8cbb    0.000042\n",
              "fb69fd749    0.000042\n",
              "627d2d158    0.000042\n",
              "796f6988f    0.000042\n",
              "ed81f4046    0.000042\n",
              "Name: droga, Length: 3289, dtype: float64"
            ]
          },
          "metadata": {
            "tags": []
          },
          "execution_count": 13
        }
      ]
    },
    {
      "cell_type": "markdown",
      "metadata": {
        "id": "WULg9XL7XMMl"
      },
      "source": [
        "# Let's plot these distributions"
      ]
    },
    {
      "cell_type": "code",
      "metadata": {
        "id": "YWLVWL7JfqMr"
      },
      "source": [
        "import matplotlib.pyplot as plt\n",
        "%matplotlib inline"
      ],
      "execution_count": null,
      "outputs": []
    },
    {
      "cell_type": "code",
      "metadata": {
        "colab": {
          "base_uri": "https://localhost:8080/",
          "height": 376
        },
        "id": "Ei3K-vc7bZYI",
        "outputId": "ff2f2f22-736d-477c-895d-6068f3cb481f"
      },
      "source": [
        "fig1 = data['tratamento'].value_counts().plot.bar()\n",
        "drugs_labels = ['Com Droga', 'Com Controle']\n",
        "plt.title('Distribuitions of type of treatment', fontweight='bold', fontsize=18, color='black')\n",
        "plt.style.use(\"seaborn\")\n",
        "fig1.set_xticklabels(drugs_labels, rotation =360, fontsize=12)\n",
        "plt.figure(figsize=(12,8), facecolor='gray')\n",
        "plt.show()"
      ],
      "execution_count": null,
      "outputs": [
        {
          "output_type": "display_data",
          "data": {
            "image/png": "[encoded data removed]",
            "text/plain": [
              "<Figure size 576x396 with 1 Axes>"
            ]
          },
          "metadata": {
            "tags": []
          }
        },
        {
          "output_type": "display_data",
          "data": {
            "text/plain": [
              "<Figure size 864x576 with 0 Axes>"
            ]
          },
          "metadata": {
            "tags": []
          }
        }
      ]
    },
    {
      "cell_type": "markdown",
      "metadata": {
        "id": "ihn4P2f0cTG4"
      },
      "source": [
        "1. Why the tests \"com_droga\" are bigger than \"com_controle\" ?\n",
        "\n"
      ]
    },
    {
      "cell_type": "code",
      "metadata": {
        "colab": {
          "base_uri": "https://localhost:8080/",
          "height": 345
        },
        "id": "aTKFgPmfeCR4",
        "outputId": "0007df2d-0f3c-45ab-c2a6-f323ae311940"
      },
      "source": [
        "time_labels = ['48 H', '72 H', '24 H']\n",
        "data['tempo'].value_counts().plot.pie(labels=time_labels)\n",
        "plt.title('Distribuitions of type of treatment', fontweight='bold', fontsize=18, color='black')\n",
        "plt.style.use(\"seaborn\")\n",
        "plt.show()"
      ],
      "execution_count": null,
      "outputs": [
        {
          "output_type": "display_data",
          "data": {
            "image/png": "[encoded data removed]",
            "text/plain": [
              "<Figure size 576x396 with 1 Axes>"
            ]
          },
          "metadata": {
            "tags": []
          }
        }
      ]
    },
    {
      "cell_type": "markdown",
      "metadata": {
        "id": "rkrO1G8feGaD"
      },
      "source": [
        "The above results are like, so let's do another plot"
      ]
    },
    {
      "cell_type": "code",
      "metadata": {
        "colab": {
          "base_uri": "https://localhost:8080/",
          "height": 377
        },
        "id": "sL76HxZCdb2q",
        "outputId": "3c8d9311-ce28-4264-d517-8bc2152ed14e"
      },
      "source": [
        "fig2 = data['tempo'].value_counts().plot.bar() # If was be a plot.barh() lines would be horizontals\n",
        "time_labels2 = ['48 Hours', '72 Hours', '24 Hours']\n",
        "\n",
        "plt.xlabel('Period', fontweight='bold', fontsize=12, color='darkslategrey')\n",
        "plt.ylabel('Amount', fontweight='bold', fontsize=12, color='darkslategrey')\n",
        "\n",
        "fig2.set_xticklabels(time_labels2, rotation =360)\n",
        "plt.title('Distribuition of time of each analysis in bar', fontweight='bold', fontsize=18, color='black')\n",
        "plt.style.use(\"seaborn\")\n",
        "\n",
        "plt.show()"
      ],
      "execution_count": null,
      "outputs": [
        {
          "output_type": "display_data",
          "data": {
            "image/png": "[encoded data removed]",
            "text/plain": [
              "<Figure size 576x396 with 1 Axes>"
            ]
          },
          "metadata": {
            "tags": []
          }
        }
      ]
    },
    {
      "cell_type": "markdown",
      "metadata": {
        "id": "LTyr4Txxdn46"
      },
      "source": [
        "2. The results are like but the 48 is bigger and there is litte difference between 72 and 24. WHY?"
      ]
    },
    {
      "cell_type": "markdown",
      "metadata": {
        "id": "Hp192ubltVfN"
      },
      "source": [
        "#### Let's see how 'dose' are distribuited"
      ]
    },
    {
      "cell_type": "code",
      "metadata": {
        "id": "XKDyJPCh_k7N",
        "outputId": "34bff55d-677a-4a7c-bda4-cf34b4c17a10"
      },
      "source": [
        "data['dose'].value_counts().plot.pie()\n",
        "plt.style.use(\"seaborn\")\n",
        "plt.show()"
      ],
      "execution_count": null,
      "outputs": [
        {
          "output_type": "display_data",
          "data": {
            "image/png": "[encoded data removed]",
            "text/plain": [
              "<Figure size 576x396 with 1 Axes>"
            ]
          },
          "metadata": {
            "tags": []
          }
        }
      ]
    },
    {
      "cell_type": "code",
      "metadata": {
        "colab": {
          "base_uri": "https://localhost:8080/",
          "height": 365
        },
        "id": "mkR5nSO_s_3s",
        "outputId": "c019f893-466b-4c75-ab0f-6647e85e203f"
      },
      "source": [
        "fig3 = data['dose'].value_counts().plot.bar()\n",
        "\n",
        "doses_labels = ['Dose 1', 'Dose 2']\n",
        "plt.xlabel('Doses', fontweight='bold', fontsize=12, color='darkslategrey')\n",
        "plt.ylabel('Amount', fontweight='bold', fontsize=12, color='darkslategrey')\n",
        "\n",
        "fig3.set_xticklabels(doses_labels, rotation =360, fontsize=12)\n",
        "plt.title('Distribuition of each doses', fontweight='bold', fontsize=18, color='black')\n",
        "plt.style.use(\"seaborn\")\n",
        "plt.show()"
      ],
      "execution_count": null,
      "outputs": [
        {
          "output_type": "display_data",
          "data": {
            "image/png": "[encoded data removed]",
            "text/plain": [
              "<Figure size 576x396 with 1 Axes>"
            ]
          },
          "metadata": {
            "tags": []
          }
        }
      ]
    },
    {
      "cell_type": "markdown",
      "metadata": {
        "id": "6iDz4Suwtn2p"
      },
      "source": [
        "3. The difference is small, just 480 'doses'. WHY?"
      ]
    },
    {
      "cell_type": "markdown",
      "metadata": {
        "id": "JmvciE_atwNs"
      },
      "source": [
        "### We won't analyze how columns g-...,c-...,...  are distributed because the values \"are\" random but we will think in another analysis."
      ]
    },
    {
      "cell_type": "code",
      "metadata": {
        "colab": {
          "base_uri": "https://localhost:8080/"
        },
        "id": "pcs9WjJhusbV",
        "outputId": "27fd400c-f827-4809-dc5a-d17467e47acc"
      },
      "source": [
        "data['g0'].unique()"
      ],
      "execution_count": null,
      "outputs": [
        {
          "output_type": "execute_result",
          "data": {
            "text/plain": [
              "array([ 1.062 ,  0.0743,  0.628 , ...,  0.3942,  0.666 , -0.8598])"
            ]
          },
          "metadata": {
            "tags": []
          },
          "execution_count": 135
        }
      ]
    },
    {
      "cell_type": "markdown",
      "metadata": {
        "id": "4SOUDURIvBDF"
      },
      "source": [
        "The values are between 1.062 - -0.8598, why? I don't know but let's divide into two groups analyze, bigger than 0 and smaller than 0."
      ]
    },
    {
      "cell_type": "code",
      "metadata": {
        "id": "yayA56Aivd2E"
      },
      "source": [
        "g_0_above = data[data['g0'] > 0]\n",
        "g_0_bellow = data[data['g0'] < 0]"
      ],
      "execution_count": null,
      "outputs": []
    },
    {
      "cell_type": "code",
      "metadata": {
        "colab": {
          "base_uri": "https://localhost:8080/"
        },
        "id": "4ItyCj_NwGg5",
        "outputId": "3c209baf-2562-446c-e6ff-3275ee18661a"
      },
      "source": [
        "print(f'The shape of g0 that is above 0: {g_0_above.shape} ')\n",
        "print(f'The shape of g0 that is bellow 0: {g_0_bellow.shape}')"
      ],
      "execution_count": null,
      "outputs": [
        {
          "output_type": "stream",
          "text": [
            "The shape of g0 that is above 0: (11769, 877) \n",
            "The shape of g0 that is bellow 0: (12023, 877)\n"
          ],
          "name": "stdout"
        }
      ]
    },
    {
      "cell_type": "code",
      "metadata": {
        "colab": {
          "base_uri": "https://localhost:8080/",
          "height": 252
        },
        "id": "Z8JACa2dv03b",
        "outputId": "b6b36238-abef-4afb-f199-398ea970078b"
      },
      "source": [
        "g_0_above.head()"
      ],
      "execution_count": null,
      "outputs": [
        {
          "output_type": "execute_result",
          "data": {
            "text/html": [
              "<div>\n",
              "<style scoped>\n",
              "    .dataframe tbody tr th:only-of-type {\n",
              "        vertical-align: middle;\n",
              "    }\n",
              "\n",
              "    .dataframe tbody tr th {\n",
              "        vertical-align: top;\n",
              "    }\n",
              "\n",
              "    .dataframe thead th {\n",
              "        text-align: right;\n",
              "    }\n",
              "</style>\n",
              "<table border=\"1\" class=\"dataframe\">\n",
              "  <thead>\n",
              "    <tr style=\"text-align: right;\">\n",
              "      <th></th>\n",
              "      <th>id</th>\n",
              "      <th>tratamento</th>\n",
              "      <th>tempo</th>\n",
              "      <th>dose</th>\n",
              "      <th>droga</th>\n",
              "      <th>g0</th>\n",
              "      <th>g1</th>\n",
              "      <th>g2</th>\n",
              "      <th>g3</th>\n",
              "      <th>g4</th>\n",
              "      <th>...</th>\n",
              "      <th>c90</th>\n",
              "      <th>c91</th>\n",
              "      <th>c92</th>\n",
              "      <th>c93</th>\n",
              "      <th>c94</th>\n",
              "      <th>c95</th>\n",
              "      <th>c96</th>\n",
              "      <th>c97</th>\n",
              "      <th>c98</th>\n",
              "      <th>c99</th>\n",
              "    </tr>\n",
              "  </thead>\n",
              "  <tbody>\n",
              "    <tr>\n",
              "      <th>0</th>\n",
              "      <td>id_000644bb2</td>\n",
              "      <td>com_droga</td>\n",
              "      <td>24</td>\n",
              "      <td>D1</td>\n",
              "      <td>b68db1d53</td>\n",
              "      <td>1.0620</td>\n",
              "      <td>0.5577</td>\n",
              "      <td>-0.2479</td>\n",
              "      <td>-0.6208</td>\n",
              "      <td>-0.1944</td>\n",
              "      <td>...</td>\n",
              "      <td>0.2862</td>\n",
              "      <td>0.2584</td>\n",
              "      <td>0.8076</td>\n",
              "      <td>0.5523</td>\n",
              "      <td>-0.1912</td>\n",
              "      <td>0.6584</td>\n",
              "      <td>-0.3981</td>\n",
              "      <td>0.2139</td>\n",
              "      <td>0.3801</td>\n",
              "      <td>0.4176</td>\n",
              "    </tr>\n",
              "    <tr>\n",
              "      <th>1</th>\n",
              "      <td>id_000779bfc</td>\n",
              "      <td>com_droga</td>\n",
              "      <td>72</td>\n",
              "      <td>D1</td>\n",
              "      <td>df89a8e5a</td>\n",
              "      <td>0.0743</td>\n",
              "      <td>0.4087</td>\n",
              "      <td>0.2991</td>\n",
              "      <td>0.0604</td>\n",
              "      <td>1.0190</td>\n",
              "      <td>...</td>\n",
              "      <td>-0.4265</td>\n",
              "      <td>0.7543</td>\n",
              "      <td>0.4708</td>\n",
              "      <td>0.0230</td>\n",
              "      <td>0.2957</td>\n",
              "      <td>0.4899</td>\n",
              "      <td>0.1522</td>\n",
              "      <td>0.1241</td>\n",
              "      <td>0.6077</td>\n",
              "      <td>0.7371</td>\n",
              "    </tr>\n",
              "    <tr>\n",
              "      <th>2</th>\n",
              "      <td>id_000a6266a</td>\n",
              "      <td>com_droga</td>\n",
              "      <td>48</td>\n",
              "      <td>D1</td>\n",
              "      <td>18bb41b2c</td>\n",
              "      <td>0.6280</td>\n",
              "      <td>0.5817</td>\n",
              "      <td>1.5540</td>\n",
              "      <td>-0.0764</td>\n",
              "      <td>-0.0323</td>\n",
              "      <td>...</td>\n",
              "      <td>-0.7250</td>\n",
              "      <td>-0.6297</td>\n",
              "      <td>0.6103</td>\n",
              "      <td>0.0223</td>\n",
              "      <td>-1.3240</td>\n",
              "      <td>-0.3174</td>\n",
              "      <td>-0.6417</td>\n",
              "      <td>-0.2187</td>\n",
              "      <td>-1.4080</td>\n",
              "      <td>0.6931</td>\n",
              "    </tr>\n",
              "    <tr>\n",
              "      <th>6</th>\n",
              "      <td>id_001bd861f</td>\n",
              "      <td>com_droga</td>\n",
              "      <td>24</td>\n",
              "      <td>D2</td>\n",
              "      <td>746ca1f5a</td>\n",
              "      <td>2.0440</td>\n",
              "      <td>1.7000</td>\n",
              "      <td>-1.5390</td>\n",
              "      <td>5.9440</td>\n",
              "      <td>-2.1670</td>\n",
              "      <td>...</td>\n",
              "      <td>0.1855</td>\n",
              "      <td>1.1720</td>\n",
              "      <td>0.8325</td>\n",
              "      <td>0.6486</td>\n",
              "      <td>0.8090</td>\n",
              "      <td>1.5880</td>\n",
              "      <td>2.4670</td>\n",
              "      <td>0.0357</td>\n",
              "      <td>0.1351</td>\n",
              "      <td>-0.3179</td>\n",
              "    </tr>\n",
              "    <tr>\n",
              "      <th>7</th>\n",
              "      <td>id_0020d0484</td>\n",
              "      <td>com_droga</td>\n",
              "      <td>48</td>\n",
              "      <td>D1</td>\n",
              "      <td>8b87a7a83</td>\n",
              "      <td>0.2711</td>\n",
              "      <td>0.5133</td>\n",
              "      <td>-0.1327</td>\n",
              "      <td>2.5950</td>\n",
              "      <td>0.6980</td>\n",
              "      <td>...</td>\n",
              "      <td>0.3230</td>\n",
              "      <td>-0.4140</td>\n",
              "      <td>0.2532</td>\n",
              "      <td>0.0513</td>\n",
              "      <td>0.8600</td>\n",
              "      <td>1.4250</td>\n",
              "      <td>0.6633</td>\n",
              "      <td>0.4562</td>\n",
              "      <td>-0.9622</td>\n",
              "      <td>0.0260</td>\n",
              "    </tr>\n",
              "  </tbody>\n",
              "</table>\n",
              "<p>5 rows × 877 columns</p>\n",
              "</div>"
            ],
            "text/plain": [
              "             id tratamento  tempo dose      droga      g0      g1      g2  \\\n",
              "0  id_000644bb2  com_droga     24   D1  b68db1d53  1.0620  0.5577 -0.2479   \n",
              "1  id_000779bfc  com_droga     72   D1  df89a8e5a  0.0743  0.4087  0.2991   \n",
              "2  id_000a6266a  com_droga     48   D1  18bb41b2c  0.6280  0.5817  1.5540   \n",
              "6  id_001bd861f  com_droga     24   D2  746ca1f5a  2.0440  1.7000 -1.5390   \n",
              "7  id_0020d0484  com_droga     48   D1  8b87a7a83  0.2711  0.5133 -0.1327   \n",
              "\n",
              "       g3      g4  ...     c90     c91     c92     c93     c94     c95  \\\n",
              "0 -0.6208 -0.1944  ...  0.2862  0.2584  0.8076  0.5523 -0.1912  0.6584   \n",
              "1  0.0604  1.0190  ... -0.4265  0.7543  0.4708  0.0230  0.2957  0.4899   \n",
              "2 -0.0764 -0.0323  ... -0.7250 -0.6297  0.6103  0.0223 -1.3240 -0.3174   \n",
              "6  5.9440 -2.1670  ...  0.1855  1.1720  0.8325  0.6486  0.8090  1.5880   \n",
              "7  2.5950  0.6980  ...  0.3230 -0.4140  0.2532  0.0513  0.8600  1.4250   \n",
              "\n",
              "      c96     c97     c98     c99  \n",
              "0 -0.3981  0.2139  0.3801  0.4176  \n",
              "1  0.1522  0.1241  0.6077  0.7371  \n",
              "2 -0.6417 -0.2187 -1.4080  0.6931  \n",
              "6  2.4670  0.0357  0.1351 -0.3179  \n",
              "7  0.6633  0.4562 -0.9622  0.0260  \n",
              "\n",
              "[5 rows x 877 columns]"
            ]
          },
          "metadata": {
            "tags": []
          },
          "execution_count": 138
        }
      ]
    },
    {
      "cell_type": "code",
      "metadata": {
        "colab": {
          "base_uri": "https://localhost:8080/",
          "height": 252
        },
        "id": "BLZ39hGOv32b",
        "outputId": "15e4aab9-6e71-43fa-b08d-42dd86a8cd02"
      },
      "source": [
        "g_0_bellow.head()"
      ],
      "execution_count": null,
      "outputs": [
        {
          "output_type": "execute_result",
          "data": {
            "text/html": [
              "<div>\n",
              "<style scoped>\n",
              "    .dataframe tbody tr th:only-of-type {\n",
              "        vertical-align: middle;\n",
              "    }\n",
              "\n",
              "    .dataframe tbody tr th {\n",
              "        vertical-align: top;\n",
              "    }\n",
              "\n",
              "    .dataframe thead th {\n",
              "        text-align: right;\n",
              "    }\n",
              "</style>\n",
              "<table border=\"1\" class=\"dataframe\">\n",
              "  <thead>\n",
              "    <tr style=\"text-align: right;\">\n",
              "      <th></th>\n",
              "      <th>id</th>\n",
              "      <th>tratamento</th>\n",
              "      <th>tempo</th>\n",
              "      <th>dose</th>\n",
              "      <th>droga</th>\n",
              "      <th>g0</th>\n",
              "      <th>g1</th>\n",
              "      <th>g2</th>\n",
              "      <th>g3</th>\n",
              "      <th>g4</th>\n",
              "      <th>...</th>\n",
              "      <th>c90</th>\n",
              "      <th>c91</th>\n",
              "      <th>c92</th>\n",
              "      <th>c93</th>\n",
              "      <th>c94</th>\n",
              "      <th>c95</th>\n",
              "      <th>c96</th>\n",
              "      <th>c97</th>\n",
              "      <th>c98</th>\n",
              "      <th>c99</th>\n",
              "    </tr>\n",
              "  </thead>\n",
              "  <tbody>\n",
              "    <tr>\n",
              "      <th>3</th>\n",
              "      <td>id_0015fd391</td>\n",
              "      <td>com_droga</td>\n",
              "      <td>48</td>\n",
              "      <td>D1</td>\n",
              "      <td>8c7f86626</td>\n",
              "      <td>-0.5138</td>\n",
              "      <td>-0.2491</td>\n",
              "      <td>-0.2656</td>\n",
              "      <td>0.5288</td>\n",
              "      <td>4.0620</td>\n",
              "      <td>...</td>\n",
              "      <td>-2.0990</td>\n",
              "      <td>-0.6441</td>\n",
              "      <td>-5.6300</td>\n",
              "      <td>-1.3780</td>\n",
              "      <td>-0.8632</td>\n",
              "      <td>-1.2880</td>\n",
              "      <td>-1.6210</td>\n",
              "      <td>-0.8784</td>\n",
              "      <td>-0.3876</td>\n",
              "      <td>-0.8154</td>\n",
              "    </tr>\n",
              "    <tr>\n",
              "      <th>4</th>\n",
              "      <td>id_001626bd3</td>\n",
              "      <td>com_droga</td>\n",
              "      <td>72</td>\n",
              "      <td>D2</td>\n",
              "      <td>7cbed3131</td>\n",
              "      <td>-0.3254</td>\n",
              "      <td>-0.4009</td>\n",
              "      <td>0.9700</td>\n",
              "      <td>0.6919</td>\n",
              "      <td>1.4180</td>\n",
              "      <td>...</td>\n",
              "      <td>0.0042</td>\n",
              "      <td>0.0048</td>\n",
              "      <td>0.6670</td>\n",
              "      <td>1.0690</td>\n",
              "      <td>0.5523</td>\n",
              "      <td>-0.3031</td>\n",
              "      <td>0.1094</td>\n",
              "      <td>0.2885</td>\n",
              "      <td>-0.3786</td>\n",
              "      <td>0.7125</td>\n",
              "    </tr>\n",
              "    <tr>\n",
              "      <th>5</th>\n",
              "      <td>id_001762a82</td>\n",
              "      <td>com_droga</td>\n",
              "      <td>24</td>\n",
              "      <td>D1</td>\n",
              "      <td>e06749542</td>\n",
              "      <td>-0.6111</td>\n",
              "      <td>0.2941</td>\n",
              "      <td>-0.9901</td>\n",
              "      <td>0.2277</td>\n",
              "      <td>1.2810</td>\n",
              "      <td>...</td>\n",
              "      <td>1.8390</td>\n",
              "      <td>1.1570</td>\n",
              "      <td>-1.0120</td>\n",
              "      <td>1.9010</td>\n",
              "      <td>1.4270</td>\n",
              "      <td>0.4519</td>\n",
              "      <td>1.2120</td>\n",
              "      <td>0.3765</td>\n",
              "      <td>0.7848</td>\n",
              "      <td>1.3990</td>\n",
              "    </tr>\n",
              "    <tr>\n",
              "      <th>8</th>\n",
              "      <td>id_00224bf20</td>\n",
              "      <td>com_droga</td>\n",
              "      <td>48</td>\n",
              "      <td>D1</td>\n",
              "      <td>952b76dfc</td>\n",
              "      <td>-0.3014</td>\n",
              "      <td>0.5545</td>\n",
              "      <td>-0.2576</td>\n",
              "      <td>-0.1390</td>\n",
              "      <td>-0.6487</td>\n",
              "      <td>...</td>\n",
              "      <td>-1.6470</td>\n",
              "      <td>0.2863</td>\n",
              "      <td>1.1070</td>\n",
              "      <td>-0.7735</td>\n",
              "      <td>-1.0280</td>\n",
              "      <td>-1.3070</td>\n",
              "      <td>-0.1167</td>\n",
              "      <td>-0.1241</td>\n",
              "      <td>-0.6420</td>\n",
              "      <td>0.5543</td>\n",
              "    </tr>\n",
              "    <tr>\n",
              "      <th>9</th>\n",
              "      <td>id_0023f063e</td>\n",
              "      <td>com_droga</td>\n",
              "      <td>48</td>\n",
              "      <td>D2</td>\n",
              "      <td>de7583071</td>\n",
              "      <td>-0.0630</td>\n",
              "      <td>0.2564</td>\n",
              "      <td>-0.5279</td>\n",
              "      <td>-0.2541</td>\n",
              "      <td>-0.0182</td>\n",
              "      <td>...</td>\n",
              "      <td>0.2201</td>\n",
              "      <td>0.5601</td>\n",
              "      <td>-0.3501</td>\n",
              "      <td>-1.4070</td>\n",
              "      <td>-0.1717</td>\n",
              "      <td>-1.1160</td>\n",
              "      <td>-0.8745</td>\n",
              "      <td>-0.2716</td>\n",
              "      <td>0.0189</td>\n",
              "      <td>-2.0000</td>\n",
              "    </tr>\n",
              "  </tbody>\n",
              "</table>\n",
              "<p>5 rows × 877 columns</p>\n",
              "</div>"
            ],
            "text/plain": [
              "             id tratamento  tempo dose      droga      g0      g1      g2  \\\n",
              "3  id_0015fd391  com_droga     48   D1  8c7f86626 -0.5138 -0.2491 -0.2656   \n",
              "4  id_001626bd3  com_droga     72   D2  7cbed3131 -0.3254 -0.4009  0.9700   \n",
              "5  id_001762a82  com_droga     24   D1  e06749542 -0.6111  0.2941 -0.9901   \n",
              "8  id_00224bf20  com_droga     48   D1  952b76dfc -0.3014  0.5545 -0.2576   \n",
              "9  id_0023f063e  com_droga     48   D2  de7583071 -0.0630  0.2564 -0.5279   \n",
              "\n",
              "       g3      g4  ...     c90     c91     c92     c93     c94     c95  \\\n",
              "3  0.5288  4.0620  ... -2.0990 -0.6441 -5.6300 -1.3780 -0.8632 -1.2880   \n",
              "4  0.6919  1.4180  ...  0.0042  0.0048  0.6670  1.0690  0.5523 -0.3031   \n",
              "5  0.2277  1.2810  ...  1.8390  1.1570 -1.0120  1.9010  1.4270  0.4519   \n",
              "8 -0.1390 -0.6487  ... -1.6470  0.2863  1.1070 -0.7735 -1.0280 -1.3070   \n",
              "9 -0.2541 -0.0182  ...  0.2201  0.5601 -0.3501 -1.4070 -0.1717 -1.1160   \n",
              "\n",
              "      c96     c97     c98     c99  \n",
              "3 -1.6210 -0.8784 -0.3876 -0.8154  \n",
              "4  0.1094  0.2885 -0.3786  0.7125  \n",
              "5  1.2120  0.3765  0.7848  1.3990  \n",
              "8 -0.1167 -0.1241 -0.6420  0.5543  \n",
              "9 -0.8745 -0.2716  0.0189 -2.0000  \n",
              "\n",
              "[5 rows x 877 columns]"
            ]
          },
          "metadata": {
            "tags": []
          },
          "execution_count": 139
        }
      ]
    },
    {
      "cell_type": "markdown",
      "metadata": {
        "id": "Yzti9Dx8v73q"
      },
      "source": [
        "4. What We do with this?"
      ]
    },
    {
      "cell_type": "code",
      "metadata": {
        "colab": {
          "base_uri": "https://localhost:8080/",
          "height": 437
        },
        "id": "WwGM2LNuBL_H",
        "outputId": "5d3bb289-bad1-445f-ad14-4b482b1153b2"
      },
      "source": [
        "data.query('g0 > g1 and g1 > g2 and g10 < g1') # Just making a query"
      ],
      "execution_count": null,
      "outputs": [
        {
          "output_type": "execute_result",
          "data": {
            "text/html": [
              "<div>\n",
              "<style scoped>\n",
              "    .dataframe tbody tr th:only-of-type {\n",
              "        vertical-align: middle;\n",
              "    }\n",
              "\n",
              "    .dataframe tbody tr th {\n",
              "        vertical-align: top;\n",
              "    }\n",
              "\n",
              "    .dataframe thead th {\n",
              "        text-align: right;\n",
              "    }\n",
              "</style>\n",
              "<table border=\"1\" class=\"dataframe\">\n",
              "  <thead>\n",
              "    <tr style=\"text-align: right;\">\n",
              "      <th></th>\n",
              "      <th>id</th>\n",
              "      <th>tratamento</th>\n",
              "      <th>tempo</th>\n",
              "      <th>dose</th>\n",
              "      <th>droga</th>\n",
              "      <th>g0</th>\n",
              "      <th>g1</th>\n",
              "      <th>g2</th>\n",
              "      <th>g3</th>\n",
              "      <th>g4</th>\n",
              "      <th>...</th>\n",
              "      <th>c90</th>\n",
              "      <th>c91</th>\n",
              "      <th>c92</th>\n",
              "      <th>c93</th>\n",
              "      <th>c94</th>\n",
              "      <th>c95</th>\n",
              "      <th>c96</th>\n",
              "      <th>c97</th>\n",
              "      <th>c98</th>\n",
              "      <th>c99</th>\n",
              "    </tr>\n",
              "  </thead>\n",
              "  <tbody>\n",
              "    <tr>\n",
              "      <th>19</th>\n",
              "      <td>id_0036b0342</td>\n",
              "      <td>com_droga</td>\n",
              "      <td>48</td>\n",
              "      <td>D1</td>\n",
              "      <td>d14919a0e</td>\n",
              "      <td>-0.1428</td>\n",
              "      <td>-0.1957</td>\n",
              "      <td>-0.6397</td>\n",
              "      <td>0.0726</td>\n",
              "      <td>-0.8058</td>\n",
              "      <td>...</td>\n",
              "      <td>-0.1851</td>\n",
              "      <td>-0.1995</td>\n",
              "      <td>0.3496</td>\n",
              "      <td>0.3608</td>\n",
              "      <td>0.7261</td>\n",
              "      <td>-0.0030</td>\n",
              "      <td>0.2853</td>\n",
              "      <td>0.3129</td>\n",
              "      <td>0.4251</td>\n",
              "      <td>0.4308</td>\n",
              "    </tr>\n",
              "    <tr>\n",
              "      <th>24</th>\n",
              "      <td>id_00505b3c8</td>\n",
              "      <td>com_droga</td>\n",
              "      <td>72</td>\n",
              "      <td>D2</td>\n",
              "      <td>06008aff2</td>\n",
              "      <td>0.4442</td>\n",
              "      <td>0.1313</td>\n",
              "      <td>-0.4171</td>\n",
              "      <td>1.2860</td>\n",
              "      <td>-0.5766</td>\n",
              "      <td>...</td>\n",
              "      <td>-0.1442</td>\n",
              "      <td>0.1209</td>\n",
              "      <td>-0.2205</td>\n",
              "      <td>0.6333</td>\n",
              "      <td>0.2286</td>\n",
              "      <td>0.9305</td>\n",
              "      <td>-0.9049</td>\n",
              "      <td>-0.6155</td>\n",
              "      <td>0.3978</td>\n",
              "      <td>0.4596</td>\n",
              "    </tr>\n",
              "    <tr>\n",
              "      <th>41</th>\n",
              "      <td>id_0080f169f</td>\n",
              "      <td>com_droga</td>\n",
              "      <td>48</td>\n",
              "      <td>D2</td>\n",
              "      <td>de6954488</td>\n",
              "      <td>0.3597</td>\n",
              "      <td>0.1674</td>\n",
              "      <td>-0.0766</td>\n",
              "      <td>0.2779</td>\n",
              "      <td>0.1796</td>\n",
              "      <td>...</td>\n",
              "      <td>-0.3537</td>\n",
              "      <td>-0.2568</td>\n",
              "      <td>-0.2506</td>\n",
              "      <td>-0.5603</td>\n",
              "      <td>-1.4230</td>\n",
              "      <td>-0.7598</td>\n",
              "      <td>-0.4834</td>\n",
              "      <td>0.2414</td>\n",
              "      <td>-0.2525</td>\n",
              "      <td>-0.4595</td>\n",
              "    </tr>\n",
              "    <tr>\n",
              "      <th>63</th>\n",
              "      <td>id_009d8340f</td>\n",
              "      <td>com_controle</td>\n",
              "      <td>24</td>\n",
              "      <td>D2</td>\n",
              "      <td>cacb2b860</td>\n",
              "      <td>0.4471</td>\n",
              "      <td>-0.0839</td>\n",
              "      <td>-0.3864</td>\n",
              "      <td>0.3196</td>\n",
              "      <td>0.2584</td>\n",
              "      <td>...</td>\n",
              "      <td>0.4795</td>\n",
              "      <td>0.3939</td>\n",
              "      <td>0.7665</td>\n",
              "      <td>0.7932</td>\n",
              "      <td>-0.6804</td>\n",
              "      <td>-0.0435</td>\n",
              "      <td>0.0949</td>\n",
              "      <td>0.2000</td>\n",
              "      <td>-0.4326</td>\n",
              "      <td>0.9364</td>\n",
              "    </tr>\n",
              "    <tr>\n",
              "      <th>96</th>\n",
              "      <td>id_010629f4f</td>\n",
              "      <td>com_controle</td>\n",
              "      <td>24</td>\n",
              "      <td>D2</td>\n",
              "      <td>cacb2b860</td>\n",
              "      <td>1.7470</td>\n",
              "      <td>0.8486</td>\n",
              "      <td>-0.8951</td>\n",
              "      <td>-0.2527</td>\n",
              "      <td>0.8395</td>\n",
              "      <td>...</td>\n",
              "      <td>0.1143</td>\n",
              "      <td>-1.4060</td>\n",
              "      <td>-1.0940</td>\n",
              "      <td>0.3996</td>\n",
              "      <td>-0.2615</td>\n",
              "      <td>1.4650</td>\n",
              "      <td>-1.2790</td>\n",
              "      <td>-0.0619</td>\n",
              "      <td>0.5689</td>\n",
              "      <td>0.0263</td>\n",
              "    </tr>\n",
              "    <tr>\n",
              "      <th>...</th>\n",
              "      <td>...</td>\n",
              "      <td>...</td>\n",
              "      <td>...</td>\n",
              "      <td>...</td>\n",
              "      <td>...</td>\n",
              "      <td>...</td>\n",
              "      <td>...</td>\n",
              "      <td>...</td>\n",
              "      <td>...</td>\n",
              "      <td>...</td>\n",
              "      <td>...</td>\n",
              "      <td>...</td>\n",
              "      <td>...</td>\n",
              "      <td>...</td>\n",
              "      <td>...</td>\n",
              "      <td>...</td>\n",
              "      <td>...</td>\n",
              "      <td>...</td>\n",
              "      <td>...</td>\n",
              "      <td>...</td>\n",
              "      <td>...</td>\n",
              "    </tr>\n",
              "    <tr>\n",
              "      <th>23744</th>\n",
              "      <td>id_ff3ce50e5</td>\n",
              "      <td>com_droga</td>\n",
              "      <td>48</td>\n",
              "      <td>D2</td>\n",
              "      <td>5acc1b4a5</td>\n",
              "      <td>0.8100</td>\n",
              "      <td>0.5307</td>\n",
              "      <td>-0.5866</td>\n",
              "      <td>-0.7887</td>\n",
              "      <td>0.9361</td>\n",
              "      <td>...</td>\n",
              "      <td>-0.4479</td>\n",
              "      <td>0.2078</td>\n",
              "      <td>-0.0153</td>\n",
              "      <td>-0.2566</td>\n",
              "      <td>0.1381</td>\n",
              "      <td>0.7367</td>\n",
              "      <td>1.1090</td>\n",
              "      <td>-0.4249</td>\n",
              "      <td>-0.8766</td>\n",
              "      <td>0.0244</td>\n",
              "    </tr>\n",
              "    <tr>\n",
              "      <th>23770</th>\n",
              "      <td>id_ff8e3f7d3</td>\n",
              "      <td>com_droga</td>\n",
              "      <td>48</td>\n",
              "      <td>D1</td>\n",
              "      <td>0a238848b</td>\n",
              "      <td>0.0894</td>\n",
              "      <td>-0.0382</td>\n",
              "      <td>-0.1666</td>\n",
              "      <td>-0.6347</td>\n",
              "      <td>0.2139</td>\n",
              "      <td>...</td>\n",
              "      <td>0.8897</td>\n",
              "      <td>0.9673</td>\n",
              "      <td>-0.7311</td>\n",
              "      <td>-1.2570</td>\n",
              "      <td>0.5153</td>\n",
              "      <td>0.0822</td>\n",
              "      <td>0.0638</td>\n",
              "      <td>1.0510</td>\n",
              "      <td>-0.8601</td>\n",
              "      <td>0.0489</td>\n",
              "    </tr>\n",
              "    <tr>\n",
              "      <th>23793</th>\n",
              "      <td>id_ffd26f361</td>\n",
              "      <td>com_controle</td>\n",
              "      <td>48</td>\n",
              "      <td>D2</td>\n",
              "      <td>cacb2b860</td>\n",
              "      <td>0.6008</td>\n",
              "      <td>0.2781</td>\n",
              "      <td>-0.3319</td>\n",
              "      <td>-0.8782</td>\n",
              "      <td>0.9281</td>\n",
              "      <td>...</td>\n",
              "      <td>1.2470</td>\n",
              "      <td>0.9569</td>\n",
              "      <td>-0.2065</td>\n",
              "      <td>-0.4918</td>\n",
              "      <td>0.7863</td>\n",
              "      <td>0.0504</td>\n",
              "      <td>0.8813</td>\n",
              "      <td>0.7757</td>\n",
              "      <td>-0.5272</td>\n",
              "      <td>0.7082</td>\n",
              "    </tr>\n",
              "    <tr>\n",
              "      <th>23802</th>\n",
              "      <td>id_fff3976bd</td>\n",
              "      <td>com_droga</td>\n",
              "      <td>24</td>\n",
              "      <td>D1</td>\n",
              "      <td>87d714366</td>\n",
              "      <td>3.2890</td>\n",
              "      <td>2.1270</td>\n",
              "      <td>0.9770</td>\n",
              "      <td>2.0490</td>\n",
              "      <td>2.3170</td>\n",
              "      <td>...</td>\n",
              "      <td>-8.6300</td>\n",
              "      <td>-8.1490</td>\n",
              "      <td>-6.2900</td>\n",
              "      <td>-8.0970</td>\n",
              "      <td>-8.7330</td>\n",
              "      <td>-2.3780</td>\n",
              "      <td>-8.4480</td>\n",
              "      <td>-4.4550</td>\n",
              "      <td>-5.7930</td>\n",
              "      <td>-3.7000</td>\n",
              "    </tr>\n",
              "    <tr>\n",
              "      <th>23811</th>\n",
              "      <td>id_fffc1c3f4</td>\n",
              "      <td>com_controle</td>\n",
              "      <td>48</td>\n",
              "      <td>D2</td>\n",
              "      <td>cacb2b860</td>\n",
              "      <td>0.3942</td>\n",
              "      <td>0.3756</td>\n",
              "      <td>0.3109</td>\n",
              "      <td>-0.7389</td>\n",
              "      <td>0.5505</td>\n",
              "      <td>...</td>\n",
              "      <td>0.5409</td>\n",
              "      <td>0.3755</td>\n",
              "      <td>0.7343</td>\n",
              "      <td>0.2807</td>\n",
              "      <td>0.4116</td>\n",
              "      <td>0.6422</td>\n",
              "      <td>0.2256</td>\n",
              "      <td>0.7592</td>\n",
              "      <td>0.6656</td>\n",
              "      <td>0.3808</td>\n",
              "    </tr>\n",
              "  </tbody>\n",
              "</table>\n",
              "<p>2073 rows × 877 columns</p>\n",
              "</div>"
            ],
            "text/plain": [
              "                 id    tratamento  tempo dose      droga      g0      g1  \\\n",
              "19     id_0036b0342     com_droga     48   D1  d14919a0e -0.1428 -0.1957   \n",
              "24     id_00505b3c8     com_droga     72   D2  06008aff2  0.4442  0.1313   \n",
              "41     id_0080f169f     com_droga     48   D2  de6954488  0.3597  0.1674   \n",
              "63     id_009d8340f  com_controle     24   D2  cacb2b860  0.4471 -0.0839   \n",
              "96     id_010629f4f  com_controle     24   D2  cacb2b860  1.7470  0.8486   \n",
              "...             ...           ...    ...  ...        ...     ...     ...   \n",
              "23744  id_ff3ce50e5     com_droga     48   D2  5acc1b4a5  0.8100  0.5307   \n",
              "23770  id_ff8e3f7d3     com_droga     48   D1  0a238848b  0.0894 -0.0382   \n",
              "23793  id_ffd26f361  com_controle     48   D2  cacb2b860  0.6008  0.2781   \n",
              "23802  id_fff3976bd     com_droga     24   D1  87d714366  3.2890  2.1270   \n",
              "23811  id_fffc1c3f4  com_controle     48   D2  cacb2b860  0.3942  0.3756   \n",
              "\n",
              "           g2      g3      g4  ...     c90     c91     c92     c93     c94  \\\n",
              "19    -0.6397  0.0726 -0.8058  ... -0.1851 -0.1995  0.3496  0.3608  0.7261   \n",
              "24    -0.4171  1.2860 -0.5766  ... -0.1442  0.1209 -0.2205  0.6333  0.2286   \n",
              "41    -0.0766  0.2779  0.1796  ... -0.3537 -0.2568 -0.2506 -0.5603 -1.4230   \n",
              "63    -0.3864  0.3196  0.2584  ...  0.4795  0.3939  0.7665  0.7932 -0.6804   \n",
              "96    -0.8951 -0.2527  0.8395  ...  0.1143 -1.4060 -1.0940  0.3996 -0.2615   \n",
              "...       ...     ...     ...  ...     ...     ...     ...     ...     ...   \n",
              "23744 -0.5866 -0.7887  0.9361  ... -0.4479  0.2078 -0.0153 -0.2566  0.1381   \n",
              "23770 -0.1666 -0.6347  0.2139  ...  0.8897  0.9673 -0.7311 -1.2570  0.5153   \n",
              "23793 -0.3319 -0.8782  0.9281  ...  1.2470  0.9569 -0.2065 -0.4918  0.7863   \n",
              "23802  0.9770  2.0490  2.3170  ... -8.6300 -8.1490 -6.2900 -8.0970 -8.7330   \n",
              "23811  0.3109 -0.7389  0.5505  ...  0.5409  0.3755  0.7343  0.2807  0.4116   \n",
              "\n",
              "          c95     c96     c97     c98     c99  \n",
              "19    -0.0030  0.2853  0.3129  0.4251  0.4308  \n",
              "24     0.9305 -0.9049 -0.6155  0.3978  0.4596  \n",
              "41    -0.7598 -0.4834  0.2414 -0.2525 -0.4595  \n",
              "63    -0.0435  0.0949  0.2000 -0.4326  0.9364  \n",
              "96     1.4650 -1.2790 -0.0619  0.5689  0.0263  \n",
              "...       ...     ...     ...     ...     ...  \n",
              "23744  0.7367  1.1090 -0.4249 -0.8766  0.0244  \n",
              "23770  0.0822  0.0638  1.0510 -0.8601  0.0489  \n",
              "23793  0.0504  0.8813  0.7757 -0.5272  0.7082  \n",
              "23802 -2.3780 -8.4480 -4.4550 -5.7930 -3.7000  \n",
              "23811  0.6422  0.2256  0.7592  0.6656  0.3808  \n",
              "\n",
              "[2073 rows x 877 columns]"
            ]
          },
          "metadata": {
            "tags": []
          },
          "execution_count": 140
        }
      ]
    },
    {
      "cell_type": "markdown",
      "metadata": {
        "id": "GU2ha2TCxIdT"
      },
      "source": [
        "# Questions: \n",
        "1.  Why the tests \"com_droga\" are bigger than \"com_controle\" ?\n",
        "2. The results of 'tempo' are like but the 48 is bigger and there is litte difference between 72 and 24. WHY?\n",
        "3. The difference (between D1 and D2) is small, just 480 'doses'. WHY?\n",
        "4. Answer to the last ask of analysis!"
      ]
    },
    {
      "cell_type": "markdown",
      "metadata": {
        "id": "csa2s3zNyAvk"
      },
      "source": [
        "# Insights: \n",
        "1. 3289 Drougs tested"
      ]
    }
  ]
}